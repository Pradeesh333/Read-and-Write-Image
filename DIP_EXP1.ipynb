{
 "cells": [
  {
   "cell_type": "code",
   "execution_count": 45,
   "id": "c0d20bd5",
   "metadata": {},
   "outputs": [
    {
     "data": {
      "text/plain": [
       "-1"
      ]
     },
     "execution_count": 45,
     "metadata": {},
     "output_type": "execute_result"
    }
   ],
   "source": [
    "import cv2\n",
    "import numpy\n",
    "img= cv2.imread('mikasa4k.png',1)\n",
    "img=cv2.resize(img, (990,540))\n",
    "cv2.imshow(\"Mikasa\",img)\n",
    "cv2.waitKey(0)"
   ]
  },
  {
   "cell_type": "code",
   "execution_count": 3,
   "id": "9a23caf8",
   "metadata": {},
   "outputs": [
    {
     "data": {
      "text/plain": [
       "True"
      ]
     },
     "execution_count": 3,
     "metadata": {},
     "output_type": "execute_result"
    }
   ],
   "source": [
    "cv2.imwrite(\"IMAGE1.jpeg\",img)"
   ]
  },
  {
   "cell_type": "code",
   "execution_count": 4,
   "id": "81ec98b0",
   "metadata": {},
   "outputs": [
    {
     "name": "stdout",
     "output_type": "stream",
     "text": [
      "(540, 990, 3)\n"
     ]
    }
   ],
   "source": [
    "print(img.shape)"
   ]
  },
  {
   "cell_type": "code",
   "execution_count": 46,
   "id": "fff01843",
   "metadata": {},
   "outputs": [
    {
     "data": {
      "text/plain": [
       "-1"
      ]
     },
     "execution_count": 46,
     "metadata": {},
     "output_type": "execute_result"
    }
   ],
   "source": [
    "import random\n",
    "for i in range(0,100):\n",
    "    for j in range(0,990):\n",
    "        img[i][j]=[random.randint(0,255),random.randint(0,255),random.randint(0,255)]\n",
    "cv2.imshow(\"Modified\",img)\n",
    "cv2.waitKey(0)"
   ]
  },
  {
   "cell_type": "code",
   "execution_count": null,
   "id": "2071a91c",
   "metadata": {},
   "outputs": [],
   "source": [
    "color_img = cv2.imread('IMAGE1.jpeg',1)\n",
    "#color_img=cv2.resize(color_img, (990,540))\n",
    "tag = color_img[0:540,500:990]\n",
    "color_img[0:540,0:490] = tag\n",
    "color_img[0:540,490:990]=11\n",
    "\n",
    "cv2.imwrite(\"IMAGE2.jpeg\",color_img)\n",
    "color_img2= cv2.imread('IMAGE2.jpeg',1)\n",
    "\n",
    "for i in range(0,490):\n",
    "    for j in range(0,540):\n",
    "        color_img2[j][490-i]=color_img[j][i]\n",
    "        \n",
    "cv2.imshow(\"Cut\",color_img2)\n",
    "cv2.waitKey(0)\n"
   ]
  },
  {
   "cell_type": "code",
   "execution_count": null,
   "id": "addf4f15",
   "metadata": {},
   "outputs": [],
   "source": []
  }
 ],
 "metadata": {
  "kernelspec": {
   "display_name": "Python 3 (ipykernel)",
   "language": "python",
   "name": "python3"
  },
  "language_info": {
   "codemirror_mode": {
    "name": "ipython",
    "version": 3
   },
   "file_extension": ".py",
   "mimetype": "text/x-python",
   "name": "python",
   "nbconvert_exporter": "python",
   "pygments_lexer": "ipython3",
   "version": "3.9.13"
  }
 },
 "nbformat": 4,
 "nbformat_minor": 5
}
